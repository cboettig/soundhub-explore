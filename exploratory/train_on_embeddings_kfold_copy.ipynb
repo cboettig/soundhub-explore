{
 "cells": [
  {
   "attachments": {},
   "cell_type": "markdown",
   "metadata": {},
   "source": [
    "This is an example of a jupyter notebook, running using the `pixi` environment we created to manage our dependencies. Note that you may need to change your python interpreter (top right corner) to:\n",
    "`.pixi/envs/default/bin/python`"
   ]
  },
  {
   "cell_type": "code",
   "execution_count": 1,
   "metadata": {},
   "outputs": [
    {
     "name": "stderr",
     "output_type": "stream",
     "text": [
      "2025-03-28 22:29:17.908589: I tensorflow/core/platform/cpu_feature_guard.cc:210] This TensorFlow binary is optimized to use available CPU instructions in performance-critical operations.\n",
      "To enable the following instructions: SSE4.1 SSE4.2 AVX AVX2 FMA, in other operations, rebuild TensorFlow with the appropriate compiler flags.\n"
     ]
    }
   ],
   "source": [
    "import os\n",
    "import glob\n",
    "import random\n",
    "import numpy as np\n",
    "import pandas as pd\n",
    "import torch\n",
    "\n",
    "import sklearn\n",
    "from sklearn.model_selection import StratifiedKFold\n",
    "from sklearn.metrics import roc_auc_score, average_precision_score\n",
    "\n",
    "# import opensoundscape\n",
    "# from opensoundscape import Audio, Spectrogram\n",
    "\n",
    "import bioacoustics_model_zoo as bmz\n",
    "from opensoundscape.ml.shallow_classifier import (\n",
    "    MLPClassifier,\n",
    "    quick_fit,\n",
    "    fit_classifier_on_embeddings\n",
    ")\n",
    "\n",
    "from scipy.special import softmax\n",
    "# from matplotlib import pyplot as plt\n",
    "from collections import defaultdict\n",
    "import torch.nn.functional as F\n",
    "# from tqdm import tqdm"
   ]
  },
  {
   "cell_type": "code",
   "execution_count": null,
   "metadata": {},
   "outputs": [],
   "source": []
  },
  {
   "attachments": {},
   "cell_type": "markdown",
   "metadata": {},
   "source": [
    "### ALL STUFF BELOW NEEDS TO BE VERIFIED :) ###"
   ]
  },
  {
   "cell_type": "code",
   "execution_count": 2,
   "metadata": {},
   "outputs": [],
   "source": [
    "# All DataFrames\n",
    "datapath = \"data/audio\"\n",
    "species_list = [\"bullfrog\", \"coyote\", 'noise']\n",
    "\n",
    "datatype = \"data\"\n",
    "\n",
    "# Format of the original Data\n",
    "# audio\n",
    "# - bullfrog\n",
    "#   - data\n",
    "#       - pos\n",
    "#       - neg\n",
    "# - coyote\n",
    "#   - data\n",
    "#      - pos \n",
    "# '/workspaces/non-avian-ml-toy/data/audio/bullfrog/data/neg/bullfrog-neg-t-11113588_9.wav' # Following this format\n",
    "# Creating a dataframe for each animal species with file paths and labels\n",
    "\n",
    "df_each_species = defaultdict(list) # Create a dictionary to hold dataframes for each species\n",
    "\n",
    "# Note Can also use OneHotEncoder in Sckit-learn\n",
    "all_species = pd.DataFrame()\n",
    "for species in species_list:\n",
    "\n",
    "    # Files Paths\n",
    "    pos_files = glob.glob(os.path.join(datapath, species, datatype, \"pos\", \"*.wav\")) # List of species pos files\n",
    "    neg_files = glob.glob(os.path.join(datapath, species, datatype, \"neg\", \"*.wav\")) # List of species neg files\n",
    "    all_files = pos_files + neg_files # Combine all file paths\n",
    "\n",
    "    # Encoding\n",
    "    pos_files_init = [1] * len(pos_files) # List of 1s for each positive file\n",
    "    neg_files_init = [0] * len(neg_files) # List of 0s for each negative file\n",
    "    encoding_pos_files = pos_files_init + neg_files_init\n",
    "    encoding_neg_files = neg_files_init + pos_files_init\n",
    "\n",
    "    pd_each_species = pd.DataFrame({'files': all_files, species: encoding_pos_files, 'noise': encoding_neg_files})\n",
    "    df_each_species[species] = pd_each_species\n",
    "\n",
    "for species in species_list:\n",
    "    all_species = pd.concat([all_species, df_each_species[species]], axis=0) # Combinting each species df to one\n",
    "\n",
    "# Fill NaN values with 0, set index, convert to int\n",
    "all_species.fillna(0, inplace=True)  # Replace NaN values with 0\n",
    "all_species.set_index(\"files\", inplace=True)  # Set 'files' as the index\n",
    "all_species = all_species.astype(int)  # Convert to int\n",
    "\n",
    "# Optionally putting other in the last Row\n",
    "if True:\n",
    "    other_col = all_species.pop(\"noise\")\n",
    "    all_species.insert(len(all_species.columns), \"noise\", other_col)\n",
    "\n",
    "# Creating a mapping from index to species and vice versa\n",
    "idx_to_all_species = {i: col for i, col in enumerate(all_species.columns)}\n",
    "all_species_to_idx = {value: key for key, value in idx_to_all_species.items()}\n",
    "\n",
    "# Creating a one-hot encoded dataframe for labels\n",
    "ohe_df_all = all_species.copy()\n",
    "\n",
    "# All Species with there labels\n",
    "all_species['labels'] = ohe_df_all.iloc[:, :].idxmax(axis=1)\n",
    "all_species = all_species[['labels']]"
   ]
  },
  {
   "cell_type": "code",
   "execution_count": 3,
   "metadata": {},
   "outputs": [
    {
     "name": "stdout",
     "output_type": "stream",
     "text": [
      "ohe_df_all\n"
     ]
    },
    {
     "data": {
      "text/html": [
       "<div>\n",
       "<style scoped>\n",
       "    .dataframe tbody tr th:only-of-type {\n",
       "        vertical-align: middle;\n",
       "    }\n",
       "\n",
       "    .dataframe tbody tr th {\n",
       "        vertical-align: top;\n",
       "    }\n",
       "\n",
       "    .dataframe thead th {\n",
       "        text-align: right;\n",
       "    }\n",
       "</style>\n",
       "<table border=\"1\" class=\"dataframe\">\n",
       "  <thead>\n",
       "    <tr style=\"text-align: right;\">\n",
       "      <th></th>\n",
       "      <th>bullfrog</th>\n",
       "      <th>coyote</th>\n",
       "      <th>noise</th>\n",
       "    </tr>\n",
       "    <tr>\n",
       "      <th>files</th>\n",
       "      <th></th>\n",
       "      <th></th>\n",
       "      <th></th>\n",
       "    </tr>\n",
       "  </thead>\n",
       "  <tbody>\n",
       "    <tr>\n",
       "      <th>data/audio/bullfrog/data/pos/bullfrog-pos-t-11113588_147.wav</th>\n",
       "      <td>1</td>\n",
       "      <td>0</td>\n",
       "      <td>0</td>\n",
       "    </tr>\n",
       "    <tr>\n",
       "      <th>data/audio/bullfrog/data/pos/bullfrog-pos-t-11113588_144.wav</th>\n",
       "      <td>1</td>\n",
       "      <td>0</td>\n",
       "      <td>0</td>\n",
       "    </tr>\n",
       "  </tbody>\n",
       "</table>\n",
       "</div>"
      ],
      "text/plain": [
       "                                                    bullfrog  coyote  noise\n",
       "files                                                                      \n",
       "data/audio/bullfrog/data/pos/bullfrog-pos-t-111...         1       0      0\n",
       "data/audio/bullfrog/data/pos/bullfrog-pos-t-111...         1       0      0"
      ]
     },
     "metadata": {},
     "output_type": "display_data"
    },
    {
     "name": "stdout",
     "output_type": "stream",
     "text": [
      "all_species\n"
     ]
    },
    {
     "data": {
      "text/html": [
       "<div>\n",
       "<style scoped>\n",
       "    .dataframe tbody tr th:only-of-type {\n",
       "        vertical-align: middle;\n",
       "    }\n",
       "\n",
       "    .dataframe tbody tr th {\n",
       "        vertical-align: top;\n",
       "    }\n",
       "\n",
       "    .dataframe thead th {\n",
       "        text-align: right;\n",
       "    }\n",
       "</style>\n",
       "<table border=\"1\" class=\"dataframe\">\n",
       "  <thead>\n",
       "    <tr style=\"text-align: right;\">\n",
       "      <th></th>\n",
       "      <th>labels</th>\n",
       "    </tr>\n",
       "    <tr>\n",
       "      <th>files</th>\n",
       "      <th></th>\n",
       "    </tr>\n",
       "  </thead>\n",
       "  <tbody>\n",
       "    <tr>\n",
       "      <th>data/audio/bullfrog/data/pos/bullfrog-pos-t-11113588_147.wav</th>\n",
       "      <td>bullfrog</td>\n",
       "    </tr>\n",
       "    <tr>\n",
       "      <th>data/audio/bullfrog/data/pos/bullfrog-pos-t-11113588_144.wav</th>\n",
       "      <td>bullfrog</td>\n",
       "    </tr>\n",
       "  </tbody>\n",
       "</table>\n",
       "</div>"
      ],
      "text/plain": [
       "                                                      labels\n",
       "files                                                       \n",
       "data/audio/bullfrog/data/pos/bullfrog-pos-t-111...  bullfrog\n",
       "data/audio/bullfrog/data/pos/bullfrog-pos-t-111...  bullfrog"
      ]
     },
     "metadata": {},
     "output_type": "display_data"
    },
    {
     "name": "stdout",
     "output_type": "stream",
     "text": [
      "numerical_all_species\n"
     ]
    },
    {
     "data": {
      "text/html": [
       "<div>\n",
       "<style scoped>\n",
       "    .dataframe tbody tr th:only-of-type {\n",
       "        vertical-align: middle;\n",
       "    }\n",
       "\n",
       "    .dataframe tbody tr th {\n",
       "        vertical-align: top;\n",
       "    }\n",
       "\n",
       "    .dataframe thead th {\n",
       "        text-align: right;\n",
       "    }\n",
       "</style>\n",
       "<table border=\"1\" class=\"dataframe\">\n",
       "  <thead>\n",
       "    <tr style=\"text-align: right;\">\n",
       "      <th></th>\n",
       "      <th>labels</th>\n",
       "    </tr>\n",
       "    <tr>\n",
       "      <th>files</th>\n",
       "      <th></th>\n",
       "    </tr>\n",
       "  </thead>\n",
       "  <tbody>\n",
       "    <tr>\n",
       "      <th>data/audio/bullfrog/data/pos/bullfrog-pos-t-11113588_147.wav</th>\n",
       "      <td>0</td>\n",
       "    </tr>\n",
       "    <tr>\n",
       "      <th>data/audio/bullfrog/data/pos/bullfrog-pos-t-11113588_144.wav</th>\n",
       "      <td>0</td>\n",
       "    </tr>\n",
       "  </tbody>\n",
       "</table>\n",
       "</div>"
      ],
      "text/plain": [
       "                                                    labels\n",
       "files                                                     \n",
       "data/audio/bullfrog/data/pos/bullfrog-pos-t-111...       0\n",
       "data/audio/bullfrog/data/pos/bullfrog-pos-t-111...       0"
      ]
     },
     "metadata": {},
     "output_type": "display_data"
    },
    {
     "name": "stdout",
     "output_type": "stream",
     "text": [
      "df_each_species['coyote']\n"
     ]
    },
    {
     "data": {
      "text/html": [
       "<div>\n",
       "<style scoped>\n",
       "    .dataframe tbody tr th:only-of-type {\n",
       "        vertical-align: middle;\n",
       "    }\n",
       "\n",
       "    .dataframe tbody tr th {\n",
       "        vertical-align: top;\n",
       "    }\n",
       "\n",
       "    .dataframe thead th {\n",
       "        text-align: right;\n",
       "    }\n",
       "</style>\n",
       "<table border=\"1\" class=\"dataframe\">\n",
       "  <thead>\n",
       "    <tr style=\"text-align: right;\">\n",
       "      <th></th>\n",
       "      <th>files</th>\n",
       "      <th>coyote</th>\n",
       "      <th>noise</th>\n",
       "    </tr>\n",
       "  </thead>\n",
       "  <tbody>\n",
       "    <tr>\n",
       "      <th>0</th>\n",
       "      <td>data/audio/coyote/data/pos/coyote-pos-t-110319...</td>\n",
       "      <td>1</td>\n",
       "      <td>0</td>\n",
       "    </tr>\n",
       "    <tr>\n",
       "      <th>1</th>\n",
       "      <td>data/audio/coyote/data/pos/coyote-pos-t-110319...</td>\n",
       "      <td>1</td>\n",
       "      <td>0</td>\n",
       "    </tr>\n",
       "  </tbody>\n",
       "</table>\n",
       "</div>"
      ],
      "text/plain": [
       "                                               files  coyote  noise\n",
       "0  data/audio/coyote/data/pos/coyote-pos-t-110319...       1      0\n",
       "1  data/audio/coyote/data/pos/coyote-pos-t-110319...       1      0"
      ]
     },
     "metadata": {},
     "output_type": "display_data"
    },
    {
     "name": "stdout",
     "output_type": "stream",
     "text": [
      "\"all_species_to_idx\" -> {'bullfrog': 0, 'coyote': 1, 'noise': 2}\n",
      "\"idx_to_all_species\" -> {0: 'bullfrog', 1: 'coyote', 2: 'noise'}\n",
      "\"df_each_species [name of species: df of that species] -> dict_keys(['bullfrog', 'coyote', 'noise'])\n"
     ]
    }
   ],
   "source": [
    "# Printing the DF's available\n",
    "print('ohe_df_all')\n",
    "display(ohe_df_all.head(2))\n",
    "print('all_species')\n",
    "display(all_species.head(2))\n",
    "\n",
    "all_species.reset_index().head(1)\n",
    "numerical_all_species = all_species.copy()\n",
    "numerical_all_species[\"labels\"] = numerical_all_species[\"labels\"].map(all_species_to_idx)\n",
    "\n",
    "print('numerical_all_species')\n",
    "display(numerical_all_species.head(2))\n",
    "\n",
    "print(\"df_each_species['coyote']\")\n",
    "display(df_each_species['coyote'].head(2))\n",
    "\n",
    "\n",
    "print(f'\"all_species_to_idx\" -> {all_species_to_idx}')\n",
    "print(f'\"idx_to_all_species\" -> {idx_to_all_species}') \n",
    "print(f'\"df_each_species [name of species: df of that species] -> {df_each_species.keys()}')\n"
   ]
  },
  {
   "cell_type": "code",
   "execution_count": 4,
   "metadata": {},
   "outputs": [
    {
     "name": "stdout",
     "output_type": "stream",
     "text": [
      "Total bullfrog samples: 15\n",
      "Total coyote samples: 15\n",
      "Total noise samples: 30\n"
     ]
    }
   ],
   "source": [
    "# Getting Data on Number of Each Species\n",
    "for species in species_list:\n",
    "    total = ohe_df_all[species].sum()\n",
    "    print(f\"Total {species} samples: {total}\")"
   ]
  },
  {
   "cell_type": "code",
   "execution_count": 5,
   "metadata": {},
   "outputs": [],
   "source": [
    "# Stuff as initializaion\n",
    "torch.manual_seed(8)\n",
    "random.seed(8)\n",
    "np.random.seed(8)\n",
    "\n",
    "# Use maximum CPUs for your device\n",
    "num_workers = os.cpu_count() * 3 // 4  # Use 75% of cores"
   ]
  },
  {
   "cell_type": "code",
   "execution_count": 6,
   "metadata": {},
   "outputs": [
    {
     "name": "stdout",
     "output_type": "stream",
     "text": [
      "File BirdNET_GLOBAL_6K_V2.4_Labels_af.txt already exists; skipping download.\n",
      "downloading model from URL...\n",
      "File BirdNET_GLOBAL_6K_V2.4_Model_FP16.tflite already exists; skipping download.\n"
     ]
    },
    {
     "name": "stderr",
     "output_type": "stream",
     "text": [
      "/opt/conda/lib/python3.12/site-packages/opensoundscape/ml/cnn.py:599: UserWarning: \n",
      "                    This architecture is not listed in opensoundscape.ml.cnn_architectures.ARCH_DICT.\n",
      "                    It will not be available for loading after saving the model with .save() (unless using pickle=True). \n",
      "                    To make it re-loadable, define a function that generates the architecture from arguments: (n_classes, n_channels) \n",
      "                    then use opensoundscape.ml.cnn_architectures.register_architecture() to register the generating function.\n",
      "\n",
      "                    The function can also set the returned object's .constructor_name to the registered string key in ARCH_DICT\n",
      "                    to avoid this warning and ensure it is reloaded correctly by opensoundscape.ml.load_model().\n",
      "\n",
      "                    See opensoundscape.ml.cnn_architectures module for examples of constructor functions\n",
      "                    \n",
      "  warnings.warn(\n",
      "/opt/conda/lib/python3.12/site-packages/opensoundscape/ml/cnn.py:623: UserWarning: Failed to detect expected # input channels of this architecture.Make sure your architecture expects the number of channels equal to `channels` argument 1). Pytorch architectures generally expect 3 channels by default.\n",
      "  warnings.warn(\n"
     ]
    }
   ],
   "source": [
    "#%%capture # This line truncates the output\n",
    "# https://github.com/kitzeslab/bioacoustics-model-zoo/blob/main/bioacoustics_model_zoo/perch.py\n",
    "bmz.utils.list_models() # might be helpful\n",
    "\n",
    "model = bmz.BirdNET()"
   ]
  },
  {
   "cell_type": "code",
   "execution_count": 7,
   "metadata": {},
   "outputs": [],
   "source": [
    "# Stratified K Fold on one species at a time seperately. (Binary: Species or Noise) \n",
    "def stratified_k_fold_one_species(validates_species, fold_num=3, num_workers=num_workers):\n",
    "    all_roc_auc_scores = defaultdict(list)\n",
    "    for species in validates_species:\n",
    "        curr_df = df_each_species[species]  # Full dataset\n",
    "\n",
    "        file_paths = curr_df['files']  # File paths\n",
    "        labels = curr_df[species]  # Binary classification (0 or 1)\n",
    "\n",
    "        # Define number of folds\n",
    "        fold_num = fold_num\n",
    "        skf = StratifiedKFold(n_splits=fold_num, shuffle=True, random_state=8)\n",
    "\n",
    "        ROC_AUC_scores = []\n",
    "\n",
    "        # Perform Stratified K-Fold\n",
    "        for fold_idx, (train_idx, test_idx) in enumerate(skf.split(file_paths, labels)):  \n",
    "            train_files, test_files = file_paths.iloc[train_idx].tolist(), file_paths.iloc[test_idx].tolist()\n",
    "            labels_train, labels_val = labels.iloc[train_idx], labels.iloc[test_idx]\n",
    "\n",
    "            # Reshape labels to match the model output shape\n",
    "            labels_train = labels_train.to_numpy().reshape(-1, 1)  \n",
    "            labels_val = labels_val.to_numpy().reshape(-1, 1)  \n",
    "\n",
    "            # Generate embeddings for training and validation sets\n",
    "            emb_train = model.embed(train_files, return_dfs=False, batch_size=4, num_workers=num_workers)\n",
    "            emb_val = model.embed(test_files, return_dfs=False, batch_size=4, num_workers=num_workers)\n",
    "\n",
    "            # Define class for training (only \"bullfrog\")\n",
    "            classes = [species]\n",
    "            model.change_classes(classes)\n",
    "\n",
    "            # Fit the classification head with embeddings and labels\n",
    "            model.network.fit(emb_train, labels_train, emb_val, labels_val)\n",
    "\n",
    "            logits = model.network(torch.tensor(emb_val)).detach() # Return raws logits of predictions not the preds\n",
    "            probs = F.sigmoid(logits).detach().numpy()  # Use sigmoid for binary classifcation\n",
    "            \n",
    "            # Calculate the area under the ROC score\n",
    "            curr_score = roc_auc_score(labels_val, probs, average=None) \n",
    "            ROC_AUC_scores.append(curr_score)\n",
    "\n",
    "            # Plot histogram of predictions\n",
    "            # preds = preds.detach().numpy()\n",
    "            # plt.hist(preds[labels_val == 1], bins=20, alpha=0.5, label='Bullfrog Present')\n",
    "            # plt.hist(preds[labels_val == 0], bins=20, alpha=0.5, label='Bullfrog Absent')\n",
    "            # plt.title(f\"Fold {fold_idx + 1}\")\n",
    "            # plt.legend()\n",
    "            # plt.show()\n",
    "\n",
    "            # Print Fold Information\n",
    "            # print('---------------------------')\n",
    "            # print(f\"Current Fold: {fold_idx + 1}\")\n",
    "            # print(f\"ROC AUC Score: {curr_score}\\n\")\n",
    "        all_roc_auc_scores[species] = ROC_AUC_scores\n",
    "    return all_roc_auc_scores\n"
   ]
  },
  {
   "cell_type": "code",
   "execution_count": 8,
   "metadata": {},
   "outputs": [
    {
     "data": {
      "application/vnd.jupyter.widget-view+json": {
       "model_id": "245332753cfa48478ffb8be1b3f3aef0",
       "version_major": 2,
       "version_minor": 0
      },
      "text/plain": [
       "  0%|          | 0/5 [00:00<?, ?it/s]"
      ]
     },
     "metadata": {},
     "output_type": "display_data"
    },
    {
     "name": "stderr",
     "output_type": "stream",
     "text": [
      "/opt/conda/lib/python3.12/multiprocessing/popen_fork.py:66: DeprecationWarning: This process (pid=1754) is multi-threaded, use of fork() may lead to deadlocks in the child.\n",
      "  self.pid = os.fork()\n"
     ]
    },
    {
     "data": {
      "application/vnd.jupyter.widget-view+json": {
       "model_id": "c9a5b56e53dc4e12a4847ccb04cfb2a0",
       "version_major": 2,
       "version_minor": 0
      },
      "text/plain": [
       "  0%|          | 0/3 [00:00<?, ?it/s]"
      ]
     },
     "metadata": {},
     "output_type": "display_data"
    },
    {
     "name": "stderr",
     "output_type": "stream",
     "text": [
      "/opt/conda/lib/python3.12/multiprocessing/popen_fork.py:66: DeprecationWarning: This process (pid=1754) is multi-threaded, use of fork() may lead to deadlocks in the child.\n",
      "  self.pid = os.fork()\n"
     ]
    },
    {
     "name": "stdout",
     "output_type": "stream",
     "text": [
      "Epoch 100/1000, Loss: 0.021417012438178062, Val Loss: 0.5251684784889221\n",
      "val AU ROC: 0.800\n",
      "val MAP: 0.710\n",
      "Epoch 200/1000, Loss: 0.008512916043400764, Val Loss: 0.597655177116394\n",
      "val AU ROC: 0.840\n",
      "val MAP: 0.810\n",
      "Epoch 300/1000, Loss: 0.004798862151801586, Val Loss: 0.6473239660263062\n",
      "val AU ROC: 0.840\n",
      "val MAP: 0.810\n",
      "Epoch 400/1000, Loss: 0.00315060093998909, Val Loss: 0.6851857900619507\n",
      "val AU ROC: 0.840\n",
      "val MAP: 0.810\n",
      "Epoch 500/1000, Loss: 0.0022552793379873037, Val Loss: 0.7159001231193542\n",
      "val AU ROC: 0.840\n",
      "val MAP: 0.810\n",
      "Epoch 600/1000, Loss: 0.0017069311579689384, Val Loss: 0.7418340444564819\n",
      "val AU ROC: 0.840\n",
      "val MAP: 0.810\n",
      "Epoch 700/1000, Loss: 0.001343211275525391, Val Loss: 0.7643507719039917\n",
      "val AU ROC: 0.840\n",
      "val MAP: 0.810\n",
      "Epoch 800/1000, Loss: 0.001087852637283504, Val Loss: 0.784305214881897\n",
      "val AU ROC: 0.840\n",
      "val MAP: 0.810\n",
      "Epoch 900/1000, Loss: 0.000900654005818069, Val Loss: 0.8022696375846863\n",
      "val AU ROC: 0.840\n",
      "val MAP: 0.810\n",
      "Epoch 1000/1000, Loss: 0.000758824753575027, Val Loss: 0.8186442255973816\n",
      "val AU ROC: 0.840\n",
      "val MAP: 0.810\n",
      "Training complete\n"
     ]
    },
    {
     "data": {
      "application/vnd.jupyter.widget-view+json": {
       "model_id": "6178a5a920254e51b3735d190d9cf1f8",
       "version_major": 2,
       "version_minor": 0
      },
      "text/plain": [
       "  0%|          | 0/5 [00:00<?, ?it/s]"
      ]
     },
     "metadata": {},
     "output_type": "display_data"
    },
    {
     "name": "stderr",
     "output_type": "stream",
     "text": [
      "/opt/conda/lib/python3.12/multiprocessing/popen_fork.py:66: DeprecationWarning: This process (pid=1754) is multi-threaded, use of fork() may lead to deadlocks in the child.\n",
      "  self.pid = os.fork()\n"
     ]
    },
    {
     "data": {
      "application/vnd.jupyter.widget-view+json": {
       "model_id": "c4b0b92d31d44524b6d163c71ba774a6",
       "version_major": 2,
       "version_minor": 0
      },
      "text/plain": [
       "  0%|          | 0/3 [00:00<?, ?it/s]"
      ]
     },
     "metadata": {},
     "output_type": "display_data"
    },
    {
     "name": "stderr",
     "output_type": "stream",
     "text": [
      "/opt/conda/lib/python3.12/multiprocessing/popen_fork.py:66: DeprecationWarning: This process (pid=1754) is multi-threaded, use of fork() may lead to deadlocks in the child.\n",
      "  self.pid = os.fork()\n"
     ]
    },
    {
     "name": "stdout",
     "output_type": "stream",
     "text": [
      "Epoch 100/1000, Loss: 0.026592010632157326, Val Loss: 0.3088451027870178\n",
      "val AU ROC: 1.000\n",
      "val MAP: 1.000\n",
      "Epoch 200/1000, Loss: 0.010363266803324223, Val Loss: 0.31071990728378296\n",
      "val AU ROC: 1.000\n",
      "val MAP: 1.000\n",
      "Epoch 300/1000, Loss: 0.005808473564684391, Val Loss: 0.31599292159080505\n",
      "val AU ROC: 1.000\n",
      "val MAP: 1.000\n",
      "Epoch 400/1000, Loss: 0.0038035206962376833, Val Loss: 0.3211313784122467\n",
      "val AU ROC: 1.000\n",
      "val MAP: 1.000\n",
      "Epoch 500/1000, Loss: 0.0027186579536646605, Val Loss: 0.3257978856563568\n",
      "val AU ROC: 1.000\n",
      "val MAP: 1.000\n",
      "Epoch 600/1000, Loss: 0.0020557246170938015, Val Loss: 0.3300114870071411\n",
      "val AU ROC: 1.000\n",
      "val MAP: 1.000\n",
      "Epoch 700/1000, Loss: 0.0016167161520570517, Val Loss: 0.3338395953178406\n",
      "val AU ROC: 1.000\n",
      "val MAP: 1.000\n",
      "Epoch 800/1000, Loss: 0.0013088179985061288, Val Loss: 0.33734622597694397\n",
      "val AU ROC: 1.000\n",
      "val MAP: 1.000\n",
      "Epoch 900/1000, Loss: 0.0010832679690793157, Val Loss: 0.340584933757782\n",
      "val AU ROC: 1.000\n",
      "val MAP: 1.000\n",
      "Epoch 1000/1000, Loss: 0.0009124038042500615, Val Loss: 0.3435981869697571\n",
      "val AU ROC: 1.000\n",
      "val MAP: 1.000\n",
      "Training complete\n"
     ]
    },
    {
     "data": {
      "application/vnd.jupyter.widget-view+json": {
       "model_id": "5f3fd869f5da4886b337430f75746d39",
       "version_major": 2,
       "version_minor": 0
      },
      "text/plain": [
       "  0%|          | 0/5 [00:00<?, ?it/s]"
      ]
     },
     "metadata": {},
     "output_type": "display_data"
    },
    {
     "name": "stderr",
     "output_type": "stream",
     "text": [
      "/opt/conda/lib/python3.12/multiprocessing/popen_fork.py:66: DeprecationWarning: This process (pid=1754) is multi-threaded, use of fork() may lead to deadlocks in the child.\n",
      "  self.pid = os.fork()\n"
     ]
    },
    {
     "data": {
      "application/vnd.jupyter.widget-view+json": {
       "model_id": "187bc6320e704b03b7e35e3285c403ae",
       "version_major": 2,
       "version_minor": 0
      },
      "text/plain": [
       "  0%|          | 0/3 [00:00<?, ?it/s]"
      ]
     },
     "metadata": {},
     "output_type": "display_data"
    },
    {
     "name": "stderr",
     "output_type": "stream",
     "text": [
      "/opt/conda/lib/python3.12/multiprocessing/popen_fork.py:66: DeprecationWarning: This process (pid=1754) is multi-threaded, use of fork() may lead to deadlocks in the child.\n",
      "  self.pid = os.fork()\n"
     ]
    },
    {
     "name": "stdout",
     "output_type": "stream",
     "text": [
      "Epoch 100/1000, Loss: 0.032425880432128906, Val Loss: 0.0747096911072731\n",
      "val AU ROC: 1.000\n",
      "val MAP: 1.000\n",
      "Epoch 200/1000, Loss: 0.012469440698623657, Val Loss: 0.04543272778391838\n",
      "val AU ROC: 1.000\n",
      "val MAP: 1.000\n",
      "Epoch 300/1000, Loss: 0.0069590406492352486, Val Loss: 0.03407055884599686\n",
      "val AU ROC: 1.000\n",
      "val MAP: 1.000\n",
      "Epoch 400/1000, Loss: 0.0045473650097846985, Val Loss: 0.027832701802253723\n",
      "val AU ROC: 1.000\n",
      "val MAP: 1.000\n",
      "Epoch 500/1000, Loss: 0.0032462538219988346, Val Loss: 0.023816952481865883\n",
      "val AU ROC: 1.000\n",
      "val MAP: 1.000\n",
      "Epoch 600/1000, Loss: 0.0024526789784431458, Val Loss: 0.0209798663854599\n",
      "val AU ROC: 1.000\n",
      "val MAP: 1.000\n",
      "Epoch 700/1000, Loss: 0.0019277812680229545, Val Loss: 0.01884910836815834\n",
      "val AU ROC: 1.000\n",
      "val MAP: 1.000\n",
      "Epoch 800/1000, Loss: 0.001559886266477406, Val Loss: 0.017178133130073547\n",
      "val AU ROC: 1.000\n",
      "val MAP: 1.000\n",
      "Epoch 900/1000, Loss: 0.0012906662886962295, Val Loss: 0.01582488790154457\n",
      "val AU ROC: 1.000\n",
      "val MAP: 1.000\n",
      "Epoch 1000/1000, Loss: 0.001086837612092495, Val Loss: 0.014701326377689838\n",
      "val AU ROC: 1.000\n",
      "val MAP: 1.000\n",
      "Training complete\n"
     ]
    },
    {
     "data": {
      "application/vnd.jupyter.widget-view+json": {
       "model_id": "c31bc7bbf8234eb9a76b00a51c95afa4",
       "version_major": 2,
       "version_minor": 0
      },
      "text/plain": [
       "  0%|          | 0/5 [00:00<?, ?it/s]"
      ]
     },
     "metadata": {},
     "output_type": "display_data"
    },
    {
     "name": "stderr",
     "output_type": "stream",
     "text": [
      "/opt/conda/lib/python3.12/multiprocessing/popen_fork.py:66: DeprecationWarning: This process (pid=1754) is multi-threaded, use of fork() may lead to deadlocks in the child.\n",
      "  self.pid = os.fork()\n"
     ]
    },
    {
     "data": {
      "application/vnd.jupyter.widget-view+json": {
       "model_id": "86d99a09ce51494a8a9de15cb38ce490",
       "version_major": 2,
       "version_minor": 0
      },
      "text/plain": [
       "  0%|          | 0/3 [00:00<?, ?it/s]"
      ]
     },
     "metadata": {},
     "output_type": "display_data"
    },
    {
     "name": "stderr",
     "output_type": "stream",
     "text": [
      "/opt/conda/lib/python3.12/multiprocessing/popen_fork.py:66: DeprecationWarning: This process (pid=1754) is multi-threaded, use of fork() may lead to deadlocks in the child.\n",
      "  self.pid = os.fork()\n"
     ]
    },
    {
     "name": "stdout",
     "output_type": "stream",
     "text": [
      "Epoch 100/1000, Loss: 0.019623812288045883, Val Loss: 0.13178661465644836\n",
      "val AU ROC: 1.000\n",
      "val MAP: 1.000\n",
      "Epoch 200/1000, Loss: 0.00782805122435093, Val Loss: 0.11879052221775055\n",
      "val AU ROC: 1.000\n",
      "val MAP: 1.000\n",
      "Epoch 300/1000, Loss: 0.004416719079017639, Val Loss: 0.11586866527795792\n",
      "val AU ROC: 1.000\n",
      "val MAP: 1.000\n",
      "Epoch 400/1000, Loss: 0.0029009110294282436, Val Loss: 0.11541150510311127\n",
      "val AU ROC: 1.000\n",
      "val MAP: 1.000\n",
      "Epoch 500/1000, Loss: 0.0020769238471984863, Val Loss: 0.1158439889550209\n",
      "val AU ROC: 1.000\n",
      "val MAP: 1.000\n",
      "Epoch 600/1000, Loss: 0.001572179258801043, Val Loss: 0.11665221303701401\n",
      "val AU ROC: 1.000\n",
      "val MAP: 1.000\n",
      "Epoch 700/1000, Loss: 0.0012373236240819097, Val Loss: 0.11762869358062744\n",
      "val AU ROC: 1.000\n",
      "val MAP: 1.000\n",
      "Epoch 800/1000, Loss: 0.0010021536145359278, Val Loss: 0.11867909133434296\n",
      "val AU ROC: 1.000\n",
      "val MAP: 1.000\n",
      "Epoch 900/1000, Loss: 0.0008298218017444015, Val Loss: 0.11975610256195068\n",
      "val AU ROC: 1.000\n",
      "val MAP: 1.000\n",
      "Epoch 1000/1000, Loss: 0.0006991061964072287, Val Loss: 0.12083548307418823\n",
      "val AU ROC: 1.000\n",
      "val MAP: 1.000\n",
      "Training complete\n"
     ]
    },
    {
     "data": {
      "application/vnd.jupyter.widget-view+json": {
       "model_id": "58bc632288904efd8da5383df0bf5500",
       "version_major": 2,
       "version_minor": 0
      },
      "text/plain": [
       "  0%|          | 0/5 [00:00<?, ?it/s]"
      ]
     },
     "metadata": {},
     "output_type": "display_data"
    },
    {
     "name": "stderr",
     "output_type": "stream",
     "text": [
      "/opt/conda/lib/python3.12/multiprocessing/popen_fork.py:66: DeprecationWarning: This process (pid=1754) is multi-threaded, use of fork() may lead to deadlocks in the child.\n",
      "  self.pid = os.fork()\n"
     ]
    },
    {
     "data": {
      "application/vnd.jupyter.widget-view+json": {
       "model_id": "f7ab1b70150747fcaabd3820def93d30",
       "version_major": 2,
       "version_minor": 0
      },
      "text/plain": [
       "  0%|          | 0/3 [00:00<?, ?it/s]"
      ]
     },
     "metadata": {},
     "output_type": "display_data"
    },
    {
     "name": "stderr",
     "output_type": "stream",
     "text": [
      "/opt/conda/lib/python3.12/multiprocessing/popen_fork.py:66: DeprecationWarning: This process (pid=1754) is multi-threaded, use of fork() may lead to deadlocks in the child.\n",
      "  self.pid = os.fork()\n"
     ]
    },
    {
     "name": "stdout",
     "output_type": "stream",
     "text": [
      "Epoch 100/1000, Loss: 0.022828832268714905, Val Loss: 0.04805035516619682\n",
      "val AU ROC: 1.000\n",
      "val MAP: 1.000\n",
      "Epoch 200/1000, Loss: 0.009079016745090485, Val Loss: 0.028460517525672913\n",
      "val AU ROC: 1.000\n",
      "val MAP: 1.000\n",
      "Epoch 300/1000, Loss: 0.005115339998155832, Val Loss: 0.020777510479092598\n",
      "val AU ROC: 1.000\n",
      "val MAP: 1.000\n",
      "Epoch 400/1000, Loss: 0.0033572178799659014, Val Loss: 0.016566280275583267\n",
      "val AU ROC: 1.000\n",
      "val MAP: 1.000\n",
      "Epoch 500/1000, Loss: 0.0024025205057114363, Val Loss: 0.013869807124137878\n",
      "val AU ROC: 1.000\n",
      "val MAP: 1.000\n",
      "Epoch 600/1000, Loss: 0.0018180578481405973, Val Loss: 0.011978237889707088\n",
      "val AU ROC: 1.000\n",
      "val MAP: 1.000\n",
      "Epoch 700/1000, Loss: 0.0014304867945611477, Val Loss: 0.010568572208285332\n",
      "val AU ROC: 1.000\n",
      "val MAP: 1.000\n",
      "Epoch 800/1000, Loss: 0.0011584371095523238, Val Loss: 0.009472101926803589\n",
      "val AU ROC: 1.000\n",
      "val MAP: 1.000\n",
      "Epoch 900/1000, Loss: 0.0009590664994902909, Val Loss: 0.008591325022280216\n",
      "val AU ROC: 1.000\n",
      "val MAP: 1.000\n",
      "Epoch 1000/1000, Loss: 0.0008080069092102349, Val Loss: 0.00786598864942789\n",
      "val AU ROC: 1.000\n",
      "val MAP: 1.000\n",
      "Training complete\n"
     ]
    },
    {
     "data": {
      "application/vnd.jupyter.widget-view+json": {
       "model_id": "385f98c3a9e94e648fc494095f63b7c9",
       "version_major": 2,
       "version_minor": 0
      },
      "text/plain": [
       "  0%|          | 0/5 [00:00<?, ?it/s]"
      ]
     },
     "metadata": {},
     "output_type": "display_data"
    },
    {
     "name": "stderr",
     "output_type": "stream",
     "text": [
      "/opt/conda/lib/python3.12/multiprocessing/popen_fork.py:66: DeprecationWarning: This process (pid=1754) is multi-threaded, use of fork() may lead to deadlocks in the child.\n",
      "  self.pid = os.fork()\n"
     ]
    },
    {
     "data": {
      "application/vnd.jupyter.widget-view+json": {
       "model_id": "24c2420cb16248c1901b56a04da44c88",
       "version_major": 2,
       "version_minor": 0
      },
      "text/plain": [
       "  0%|          | 0/3 [00:00<?, ?it/s]"
      ]
     },
     "metadata": {},
     "output_type": "display_data"
    },
    {
     "name": "stderr",
     "output_type": "stream",
     "text": [
      "/opt/conda/lib/python3.12/multiprocessing/popen_fork.py:66: DeprecationWarning: This process (pid=1754) is multi-threaded, use of fork() may lead to deadlocks in the child.\n",
      "  self.pid = os.fork()\n"
     ]
    },
    {
     "name": "stdout",
     "output_type": "stream",
     "text": [
      "Epoch 100/1000, Loss: 0.025207990780472755, Val Loss: 0.06388747692108154\n",
      "val AU ROC: 1.000\n",
      "val MAP: 1.000\n",
      "Epoch 200/1000, Loss: 0.009937960654497147, Val Loss: 0.03574202582240105\n",
      "val AU ROC: 1.000\n",
      "val MAP: 1.000\n",
      "Epoch 300/1000, Loss: 0.005585190374404192, Val Loss: 0.025108063593506813\n",
      "val AU ROC: 1.000\n",
      "val MAP: 1.000\n",
      "Epoch 400/1000, Loss: 0.003661584807559848, Val Loss: 0.019447412341833115\n",
      "val AU ROC: 1.000\n",
      "val MAP: 1.000\n",
      "Epoch 500/1000, Loss: 0.002618906321004033, Val Loss: 0.015909114852547646\n",
      "val AU ROC: 1.000\n",
      "val MAP: 1.000\n",
      "Epoch 600/1000, Loss: 0.001981159206479788, Val Loss: 0.013477057218551636\n",
      "val AU ROC: 1.000\n",
      "val MAP: 1.000\n",
      "Epoch 700/1000, Loss: 0.0015585029032081366, Val Loss: 0.011696442030370235\n",
      "val AU ROC: 1.000\n",
      "val MAP: 1.000\n",
      "Epoch 800/1000, Loss: 0.001261924160644412, Val Loss: 0.010333037935197353\n",
      "val AU ROC: 1.000\n",
      "val MAP: 1.000\n",
      "Epoch 900/1000, Loss: 0.0010446087690070271, Val Loss: 0.009252984076738358\n",
      "val AU ROC: 1.000\n",
      "val MAP: 1.000\n",
      "Epoch 1000/1000, Loss: 0.0008800422074273229, Val Loss: 0.008374795317649841\n",
      "val AU ROC: 1.000\n",
      "val MAP: 1.000\n",
      "Training complete\n"
     ]
    }
   ],
   "source": [
    "#%%capture # Hides output\n",
    "validates_species = ['coyote', 'bullfrog'] # Choose which species to validate one at a time\n",
    "each_roc_auc_scores = stratified_k_fold_one_species(validates_species)"
   ]
  },
  {
   "cell_type": "code",
   "execution_count": 9,
   "metadata": {},
   "outputs": [
    {
     "name": "stdout",
     "output_type": "stream",
     "text": [
      "coyote\n",
      "Fold 1: ROC AUC Score = 0.8400000000000001\n",
      "Fold 2: ROC AUC Score = 1.0\n",
      "Fold 3: ROC AUC Score = 1.0\n",
      "Average Across All folds: 0.9466666666666667\n",
      "------------------------------------------------\n",
      "bullfrog\n",
      "Fold 1: ROC AUC Score = 1.0\n",
      "Fold 2: ROC AUC Score = 1.0\n",
      "Fold 3: ROC AUC Score = 1.0\n",
      "Average Across All folds: 1.0\n",
      "------------------------------------------------\n"
     ]
    }
   ],
   "source": [
    "# Average ROC AUC score across all folds (FOR BINARY STRATIFIED K FOLD)\n",
    "\n",
    "# Average ROC AUC for each species\n",
    "def average_roc_auc_scores(species, all_roc_auc_scores):\n",
    "    return np.mean(all_roc_auc_scores[species])\n",
    "\n",
    "# Print ROC AUC for each fold and average across all folds\n",
    "def roc_auc_folds(species, all_roc_auc_scores):\n",
    "    for i, score in enumerate(all_roc_auc_scores[species]):\n",
    "        print(f\"Fold {i + 1}: ROC AUC Score = {score}\")\n",
    "    return (f'Average Across All folds: {average_roc_auc_scores(species, all_roc_auc_scores)}')\n",
    "\n",
    "# Combining top 2 function and printing for every species\n",
    "def all_species_roc_auc_folds(all_roc_auc_scores):\n",
    "    for species in all_roc_auc_scores:\n",
    "        print(species)\n",
    "        print(f\"{roc_auc_folds(species, all_roc_auc_scores)}\")\n",
    "        print('------------------------------------------------')\n",
    "\n",
    "\n",
    "all_species_roc_auc_folds(each_roc_auc_scores)\n"
   ]
  },
  {
   "cell_type": "code",
   "execution_count": 10,
   "metadata": {},
   "outputs": [],
   "source": [
    "def StratifiedKFold_multiclass(classes, num_folds=3, num_workers=4, batch_size=4):\n",
    "    # Convert the one-hot encoded dataframe to a list of lists for each row\n",
    "    ohe_list_form = ohe_df_all.reset_index().drop('files', axis=1)[classes].apply(list, axis=1)\n",
    "\n",
    "    # Finding labels for the OHE dataframe into one list\n",
    "    labels = pd.Series(np.argmax(ohe_df_all, axis=1)) \n",
    "\n",
    "    # Extract file paths into a list\n",
    "    file_paths = ohe_df_all.reset_index()['files']\n",
    "\n",
    "    # HYPERPARAMETERS KIND OF\n",
    "    classes = classes\n",
    "    fold_num = num_folds\n",
    "\n",
    "    skf = StratifiedKFold(n_splits=fold_num, shuffle=True, random_state=8)\n",
    "\n",
    "    ROC_AUC_scores = []\n",
    "    for fold_idx, (train_idx, test_idx) in enumerate(skf.split(file_paths, labels)):  \n",
    "        train_files, test_files = file_paths.iloc[train_idx].tolist(), file_paths.iloc[test_idx].tolist()\n",
    "        labels_train, labels_val = ohe_list_form.iloc[train_idx], ohe_list_form.iloc[test_idx]\n",
    "\n",
    "        # Reshape \n",
    "        labels_train = np.stack(labels_train.to_numpy()) # stack removes extra [], adding a dimension\n",
    "        labels_val = np.stack(labels_val.to_numpy())  \n",
    "\n",
    "        # Generate Embeddings\n",
    "        emb_train = model.embed(train_files, return_dfs=False, batch_size=batch_size, num_workers=num_workers)\n",
    "        emb_val = model.embed(test_files, return_dfs=False, batch_size=batch_size, num_workers=num_workers)\n",
    "        model.change_classes(classes)\n",
    "\n",
    "        # Train Classification Layer\n",
    "        model.network.fit(emb_train, labels_train, emb_val, labels_val)\n",
    "\n",
    "        # Get logits and probabilities\n",
    "        logits = model.network(torch.tensor(emb_val)).detach()\n",
    "        probs = F.softmax(logits, dim=1).detach().numpy()  # Ensure dim=1 for multi-class classification\n",
    "\n",
    "        # ROC AUC for multi-class\n",
    "        curr_score = roc_auc_score(labels_val, probs, average=None, multi_class='ovr') # # (One-vs-Rest) ROC AUC for each class separately and averages the results.\n",
    "        ROC_AUC_scores.append(curr_score)\n",
    "\n",
    "    return ROC_AUC_scores \n"
   ]
  },
  {
   "cell_type": "code",
   "execution_count": 11,
   "metadata": {},
   "outputs": [
    {
     "data": {
      "application/vnd.jupyter.widget-view+json": {
       "model_id": "b4a0a820e3c3494aa2bcec7acb66beaf",
       "version_major": 2,
       "version_minor": 0
      },
      "text/plain": [
       "  0%|          | 0/10 [00:00<?, ?it/s]"
      ]
     },
     "metadata": {},
     "output_type": "display_data"
    },
    {
     "name": "stderr",
     "output_type": "stream",
     "text": [
      "/opt/conda/lib/python3.12/multiprocessing/popen_fork.py:66: DeprecationWarning: This process (pid=1754) is multi-threaded, use of fork() may lead to deadlocks in the child.\n",
      "  self.pid = os.fork()\n"
     ]
    },
    {
     "data": {
      "application/vnd.jupyter.widget-view+json": {
       "model_id": "2cda57ef1e2d4a27ad979a3f2310c672",
       "version_major": 2,
       "version_minor": 0
      },
      "text/plain": [
       "  0%|          | 0/5 [00:00<?, ?it/s]"
      ]
     },
     "metadata": {},
     "output_type": "display_data"
    },
    {
     "name": "stderr",
     "output_type": "stream",
     "text": [
      "/opt/conda/lib/python3.12/multiprocessing/popen_fork.py:66: DeprecationWarning: This process (pid=1754) is multi-threaded, use of fork() may lead to deadlocks in the child.\n",
      "  self.pid = os.fork()\n"
     ]
    },
    {
     "name": "stdout",
     "output_type": "stream",
     "text": [
      "Epoch 100/1000, Loss: 0.03827184811234474, Val Loss: 0.15491969883441925\n",
      "val AU ROC: 0.987\n",
      "val MAP: 0.970\n",
      "Epoch 200/1000, Loss: 0.014907730743288994, Val Loss: 0.1342795491218567\n",
      "val AU ROC: 0.987\n",
      "val MAP: 0.970\n",
      "Epoch 300/1000, Loss: 0.008339732885360718, Val Loss: 0.12940798699855804\n",
      "val AU ROC: 0.987\n",
      "val MAP: 0.970\n",
      "Epoch 400/1000, Loss: 0.005455806851387024, Val Loss: 0.1282927244901657\n",
      "val AU ROC: 0.996\n",
      "val MAP: 0.989\n",
      "Epoch 500/1000, Loss: 0.003897823393344879, Val Loss: 0.1284986436367035\n",
      "val AU ROC: 0.996\n",
      "val MAP: 0.989\n",
      "Epoch 600/1000, Loss: 0.002946804976090789, Val Loss: 0.12925751507282257\n",
      "val AU ROC: 0.996\n",
      "val MAP: 0.989\n",
      "Epoch 700/1000, Loss: 0.0023173338267952204, Val Loss: 0.13026586174964905\n",
      "val AU ROC: 0.996\n",
      "val MAP: 0.989\n",
      "Epoch 800/1000, Loss: 0.0018759418744593859, Val Loss: 0.13138669729232788\n",
      "val AU ROC: 0.996\n",
      "val MAP: 0.989\n",
      "Epoch 900/1000, Loss: 0.0015528415096923709, Val Loss: 0.13255295157432556\n",
      "val AU ROC: 0.996\n",
      "val MAP: 0.989\n",
      "Epoch 1000/1000, Loss: 0.0013080728240311146, Val Loss: 0.13372986018657684\n",
      "val AU ROC: 0.996\n",
      "val MAP: 0.989\n",
      "Training complete\n"
     ]
    },
    {
     "data": {
      "application/vnd.jupyter.widget-view+json": {
       "model_id": "d79783ddb6484d729f83ed692522846c",
       "version_major": 2,
       "version_minor": 0
      },
      "text/plain": [
       "  0%|          | 0/10 [00:00<?, ?it/s]"
      ]
     },
     "metadata": {},
     "output_type": "display_data"
    },
    {
     "name": "stderr",
     "output_type": "stream",
     "text": [
      "/opt/conda/lib/python3.12/multiprocessing/popen_fork.py:66: DeprecationWarning: This process (pid=1754) is multi-threaded, use of fork() may lead to deadlocks in the child.\n",
      "  self.pid = os.fork()\n"
     ]
    },
    {
     "data": {
      "application/vnd.jupyter.widget-view+json": {
       "model_id": "3dd801362f8e45939098174140a5e96d",
       "version_major": 2,
       "version_minor": 0
      },
      "text/plain": [
       "  0%|          | 0/5 [00:00<?, ?it/s]"
      ]
     },
     "metadata": {},
     "output_type": "display_data"
    },
    {
     "name": "stderr",
     "output_type": "stream",
     "text": [
      "/opt/conda/lib/python3.12/multiprocessing/popen_fork.py:66: DeprecationWarning: This process (pid=1754) is multi-threaded, use of fork() may lead to deadlocks in the child.\n",
      "  self.pid = os.fork()\n"
     ]
    },
    {
     "name": "stdout",
     "output_type": "stream",
     "text": [
      "Epoch 100/1000, Loss: 0.03709610179066658, Val Loss: 0.19240568578243256\n",
      "val AU ROC: 0.987\n",
      "val MAP: 0.986\n",
      "Epoch 200/1000, Loss: 0.014378621242940426, Val Loss: 0.1768229454755783\n",
      "val AU ROC: 0.987\n",
      "val MAP: 0.986\n",
      "Epoch 300/1000, Loss: 0.008027050644159317, Val Loss: 0.17328573763370514\n",
      "val AU ROC: 0.987\n",
      "val MAP: 0.986\n",
      "Epoch 400/1000, Loss: 0.005244643427431583, Val Loss: 0.17259471118450165\n",
      "val AU ROC: 0.987\n",
      "val MAP: 0.986\n",
      "Epoch 500/1000, Loss: 0.003743712557479739, Val Loss: 0.17291872203350067\n",
      "val AU ROC: 0.987\n",
      "val MAP: 0.986\n",
      "Epoch 600/1000, Loss: 0.002828477416187525, Val Loss: 0.17367051541805267\n",
      "val AU ROC: 0.987\n",
      "val MAP: 0.986\n",
      "Epoch 700/1000, Loss: 0.0022232255432754755, Val Loss: 0.1746157705783844\n",
      "val AU ROC: 0.987\n",
      "val MAP: 0.986\n",
      "Epoch 800/1000, Loss: 0.001799070043489337, Val Loss: 0.17564794421195984\n",
      "val AU ROC: 0.987\n",
      "val MAP: 0.986\n",
      "Epoch 900/1000, Loss: 0.0014886504504829645, Val Loss: 0.1767144799232483\n",
      "val AU ROC: 0.987\n",
      "val MAP: 0.986\n",
      "Epoch 1000/1000, Loss: 0.0012537052389234304, Val Loss: 0.17778806388378143\n",
      "val AU ROC: 0.987\n",
      "val MAP: 0.986\n",
      "Training complete\n"
     ]
    },
    {
     "data": {
      "application/vnd.jupyter.widget-view+json": {
       "model_id": "ed0006ff21de4f7d87f48efc0a126b9b",
       "version_major": 2,
       "version_minor": 0
      },
      "text/plain": [
       "  0%|          | 0/10 [00:00<?, ?it/s]"
      ]
     },
     "metadata": {},
     "output_type": "display_data"
    },
    {
     "name": "stderr",
     "output_type": "stream",
     "text": [
      "/opt/conda/lib/python3.12/multiprocessing/popen_fork.py:66: DeprecationWarning: This process (pid=1754) is multi-threaded, use of fork() may lead to deadlocks in the child.\n",
      "  self.pid = os.fork()\n"
     ]
    },
    {
     "data": {
      "application/vnd.jupyter.widget-view+json": {
       "model_id": "2e0d3aaffba64c458a8575e3931c22b2",
       "version_major": 2,
       "version_minor": 0
      },
      "text/plain": [
       "  0%|          | 0/5 [00:00<?, ?it/s]"
      ]
     },
     "metadata": {},
     "output_type": "display_data"
    },
    {
     "name": "stderr",
     "output_type": "stream",
     "text": [
      "/opt/conda/lib/python3.12/multiprocessing/popen_fork.py:66: DeprecationWarning: This process (pid=1754) is multi-threaded, use of fork() may lead to deadlocks in the child.\n",
      "  self.pid = os.fork()\n"
     ]
    },
    {
     "name": "stdout",
     "output_type": "stream",
     "text": [
      "Epoch 100/1000, Loss: 0.043179407715797424, Val Loss: 0.18391643464565277\n",
      "val AU ROC: 0.958\n",
      "val MAP: 0.959\n",
      "Epoch 200/1000, Loss: 0.016657060012221336, Val Loss: 0.17957444489002228\n",
      "val AU ROC: 0.958\n",
      "val MAP: 0.959\n",
      "Epoch 300/1000, Loss: 0.009277313947677612, Val Loss: 0.18427275121212006\n",
      "val AU ROC: 0.958\n",
      "val MAP: 0.959\n",
      "Epoch 400/1000, Loss: 0.006055130157619715, Val Loss: 0.1899581402540207\n",
      "val AU ROC: 0.958\n",
      "val MAP: 0.959\n",
      "Epoch 500/1000, Loss: 0.004319905769079924, Val Loss: 0.195457324385643\n",
      "val AU ROC: 0.958\n",
      "val MAP: 0.959\n",
      "Epoch 600/1000, Loss: 0.0032628667540848255, Val Loss: 0.2005620300769806\n",
      "val AU ROC: 0.962\n",
      "val MAP: 0.972\n",
      "Epoch 700/1000, Loss: 0.002564205089583993, Val Loss: 0.20526671409606934\n",
      "val AU ROC: 0.962\n",
      "val MAP: 0.972\n",
      "Epoch 800/1000, Loss: 0.0020748323295265436, Val Loss: 0.20961149036884308\n",
      "val AU ROC: 0.966\n",
      "val MAP: 0.973\n",
      "Epoch 900/1000, Loss: 0.0017167635960504413, Val Loss: 0.21364298462867737\n",
      "val AU ROC: 0.966\n",
      "val MAP: 0.973\n",
      "Epoch 1000/1000, Loss: 0.0014457625802606344, Val Loss: 0.21740418672561646\n",
      "val AU ROC: 0.966\n",
      "val MAP: 0.973\n",
      "Training complete\n"
     ]
    }
   ],
   "source": [
    "#%%capture\n",
    "classes = ['bullfrog', 'coyote', 'noise'] \n",
    "stratified_k_fold_multiclass_ROC_AUC = StratifiedKFold_multiclass(classes=classes, num_folds=3, num_workers=num_workers)"
   ]
  },
  {
   "cell_type": "code",
   "execution_count": 12,
   "metadata": {},
   "outputs": [
    {
     "name": "stdout",
     "output_type": "stream",
     "text": [
      "Fold 1: ROC AUC Score = [0.98666667 1.         1.        ]\n",
      "Fold 2: ROC AUC Score = [1. 1. 1.]\n",
      "Fold 3: ROC AUC Score = [1.   1.   0.94]\n"
     ]
    },
    {
     "data": {
      "text/plain": [
       "'Average Across All folds: 0.9918518518518518'"
      ]
     },
     "execution_count": 12,
     "metadata": {},
     "output_type": "execute_result"
    }
   ],
   "source": [
    "# Reading functionality for ROC_AUC multiclass\n",
    "def reading_roc_auc_scores(ROC_AUC_scores):\n",
    "    for i, score in enumerate(ROC_AUC_scores):\n",
    "        print(f\"Fold {i + 1}: ROC AUC Score = {score}\")\n",
    "    return (f'Average Across All folds: {np.mean(ROC_AUC_scores)}')\n",
    "\n",
    "reading_roc_auc_scores(stratified_k_fold_multiclass_ROC_AUC) # First value is bullfrog, second is coyote, third is noise"
   ]
  },
  {
   "cell_type": "code",
   "execution_count": 13,
   "metadata": {},
   "outputs": [],
   "source": [
    "%%capture\n",
    "# Reinitializing the model just in case\n",
    "model = bmz.BirdNET()"
   ]
  },
  {
   "cell_type": "code",
   "execution_count": 14,
   "metadata": {},
   "outputs": [],
   "source": [
    "train_df, val_df = sklearn.model_selection.train_test_split(ohe_df_all, test_size=0.3, random_state=8) # Favorite Number = 8"
   ]
  },
  {
   "cell_type": "code",
   "execution_count": 15,
   "metadata": {},
   "outputs": [],
   "source": [
    "# https://github.com/kitzeslab/opensoundscape/blob/master/opensoundscape/ml/shallow_classifier.py\n",
    "num_classes = train_df.shape[1]\n",
    "\n",
    "clf = MLPClassifier(\n",
    "    input_size=1024,  # Feature vector size Perch, Hawk\n",
    "    output_size=num_classes,  # Number of classes\n",
    "    hidden_layer_sizes=(100, 100, 100, 100),  # 3 hidden layers, 100 hidden units (100 neuron) in each layer.\n",
    ")\n"
   ]
  },
  {
   "cell_type": "code",
   "execution_count": 16,
   "metadata": {},
   "outputs": [],
   "source": [
    "%%capture\n",
    "emb_train, label_train, emb_val, label_val = fit_classifier_on_embeddings(\n",
    "    embedding_model=model,\n",
    "    classifier_model=clf,\n",
    "    train_df=train_df,\n",
    "    validation_df=val_df,\n",
    "    steps=200, # Number of epochs\n",
    "    embedding_batch_size=4, # \n",
    "    embedding_num_workers=4 \n",
    ")\n"
   ]
  },
  {
   "cell_type": "code",
   "execution_count": 17,
   "metadata": {},
   "outputs": [
    {
     "name": "stdout",
     "output_type": "stream",
     "text": [
      "Area Under ROC [1.         0.98611111 0.96296296]\n",
      "Average Precision Score [1.         0.97619048 0.97222222]\n"
     ]
    }
   ],
   "source": [
    "logits = clf(emb_val.to(torch.device(\"cpu\"))).detach().numpy() # Preds are logits here\n",
    "probs = softmax(logits, axis=1) # Using scipy softmax because numpy\n",
    "# Compute evaluation metrics per class\n",
    "\n",
    "auc_scores = roc_auc_score(label_val, probs, average=None) # #Expects probabilities Not Raw Logits\n",
    "ap_scores = average_precision_score(label_val, probs, average=None)\n",
    "\n",
    "print(f\"Area Under ROC {auc_scores}\") # separates positive from negative examples.\n",
    "print(f\"Average Precision Score {ap_scores}\")\n"
   ]
  },
  {
   "cell_type": "code",
   "execution_count": 18,
   "metadata": {},
   "outputs": [
    {
     "name": "stdout",
     "output_type": "stream",
     "text": [
      "Number of Correct Predictions: 17\n",
      "Number of False Predictions: 1\n",
      "Accuracy: 0.9444444444444444\n"
     ]
    }
   ],
   "source": [
    "# torch_tensor = torch.from_numpy(np_array)  # NumPy → PyTorch\n",
    "# back_to_numpy = torch_tensor.numpy()  # PyTorch → NumPy\n",
    "\n",
    "preds = np.argmax(probs, axis=1)  # Convert probabilities to class predictions\n",
    "true_pred = torch.argmax(label_val, dim=1).numpy()\n",
    "\n",
    "# Converting back to original class names\n",
    "preds_label = np.array([idx_to_all_species[pred] for pred in preds])  # Converting to Class Names\n",
    "true_preds_label = np.array([idx_to_all_species[true] for true in true_pred])  # Converting to Class Names\n",
    "\n",
    "# Element-wise comparison\n",
    "correct_preds = preds_label == true_preds_label  \n",
    "false_preds = preds_label != true_preds_label \n",
    "\n",
    "accuracy = np.sum(correct_preds) / len(true_pred)  # Accuracy\n",
    "\n",
    "print(f\"Number of Correct Predictions: {np.sum(correct_preds)}\")\n",
    "print(f\"Number of False Predictions: {np.sum(false_preds)}\")\n",
    "print(f\"Accuracy: {accuracy}\")\n"
   ]
  },
  {
   "cell_type": "code",
   "execution_count": 19,
   "metadata": {},
   "outputs": [
    {
     "data": {
      "text/html": [
       "<div>\n",
       "<style scoped>\n",
       "    .dataframe tbody tr th:only-of-type {\n",
       "        vertical-align: middle;\n",
       "    }\n",
       "\n",
       "    .dataframe tbody tr th {\n",
       "        vertical-align: top;\n",
       "    }\n",
       "\n",
       "    .dataframe thead th {\n",
       "        text-align: right;\n",
       "    }\n",
       "</style>\n",
       "<table border=\"1\" class=\"dataframe\">\n",
       "  <thead>\n",
       "    <tr style=\"text-align: right;\">\n",
       "      <th></th>\n",
       "      <th>Predicted</th>\n",
       "      <th>Actual</th>\n",
       "    </tr>\n",
       "  </thead>\n",
       "  <tbody>\n",
       "    <tr>\n",
       "      <th>16</th>\n",
       "      <td>coyote</td>\n",
       "      <td>noise</td>\n",
       "    </tr>\n",
       "  </tbody>\n",
       "</table>\n",
       "</div>"
      ],
      "text/plain": [
       "   Predicted Actual\n",
       "16    coyote  noise"
      ]
     },
     "execution_count": 19,
     "metadata": {},
     "output_type": "execute_result"
    }
   ],
   "source": [
    "results = pd.DataFrame({'Predicted': preds_label, 'Actual': true_preds_label})\n",
    "\n",
    "# Showing the incorrect predictions\n",
    "incorrect_preds = results[results['Predicted'] != results['Actual']]\n",
    "incorrect_preds.head()"
   ]
  },
  {
   "cell_type": "code",
   "execution_count": 20,
   "metadata": {},
   "outputs": [
    {
     "data": {
      "text/html": [
       "<div>\n",
       "<style scoped>\n",
       "    .dataframe tbody tr th:only-of-type {\n",
       "        vertical-align: middle;\n",
       "    }\n",
       "\n",
       "    .dataframe tbody tr th {\n",
       "        vertical-align: top;\n",
       "    }\n",
       "\n",
       "    .dataframe thead th {\n",
       "        text-align: right;\n",
       "    }\n",
       "</style>\n",
       "<table border=\"1\" class=\"dataframe\">\n",
       "  <thead>\n",
       "    <tr style=\"text-align: right;\">\n",
       "      <th></th>\n",
       "      <th>Actual</th>\n",
       "      <th>Count of Misclassified</th>\n",
       "    </tr>\n",
       "  </thead>\n",
       "  <tbody>\n",
       "    <tr>\n",
       "      <th>0</th>\n",
       "      <td>noise</td>\n",
       "      <td>1</td>\n",
       "    </tr>\n",
       "  </tbody>\n",
       "</table>\n",
       "</div>"
      ],
      "text/plain": [
       "  Actual  Count of Misclassified\n",
       "0  noise                       1"
      ]
     },
     "metadata": {},
     "output_type": "display_data"
    },
    {
     "data": {
      "text/html": [
       "<div>\n",
       "<style scoped>\n",
       "    .dataframe tbody tr th:only-of-type {\n",
       "        vertical-align: middle;\n",
       "    }\n",
       "\n",
       "    .dataframe tbody tr th {\n",
       "        vertical-align: top;\n",
       "    }\n",
       "\n",
       "    .dataframe thead th {\n",
       "        text-align: right;\n",
       "    }\n",
       "</style>\n",
       "<table border=\"1\" class=\"dataframe\">\n",
       "  <thead>\n",
       "    <tr style=\"text-align: right;\">\n",
       "      <th></th>\n",
       "      <th>Predicted</th>\n",
       "    </tr>\n",
       "    <tr>\n",
       "      <th>Actual</th>\n",
       "      <th></th>\n",
       "    </tr>\n",
       "  </thead>\n",
       "  <tbody>\n",
       "    <tr>\n",
       "      <th>noise</th>\n",
       "      <td>coyote</td>\n",
       "    </tr>\n",
       "  </tbody>\n",
       "</table>\n",
       "</div>"
      ],
      "text/plain": [
       "       Predicted\n",
       "Actual          \n",
       "noise     coyote"
      ]
     },
     "metadata": {},
     "output_type": "display_data"
    }
   ],
   "source": [
    "# Displaying the count of incorrect predictions per class\n",
    "count_incorrect_preds = incorrect_preds.groupby('Actual').size().reset_index(name='Count of Misclassified')\n",
    "display(count_incorrect_preds)\n",
    "\n",
    "# Displaying the most common incorrect prediction for each actual class\n",
    "common_incorrect_preds = incorrect_preds.groupby('Actual').agg({'Predicted': lambda x: x.value_counts().idxmax()})\n",
    "display(common_incorrect_preds)\n"
   ]
  },
  {
   "cell_type": "code",
   "execution_count": 21,
   "metadata": {},
   "outputs": [
    {
     "data": {
      "text/html": [
       "<div>\n",
       "<style scoped>\n",
       "    .dataframe tbody tr th:only-of-type {\n",
       "        vertical-align: middle;\n",
       "    }\n",
       "\n",
       "    .dataframe tbody tr th {\n",
       "        vertical-align: top;\n",
       "    }\n",
       "\n",
       "    .dataframe thead th {\n",
       "        text-align: right;\n",
       "    }\n",
       "</style>\n",
       "<table border=\"1\" class=\"dataframe\">\n",
       "  <thead>\n",
       "    <tr style=\"text-align: right;\">\n",
       "      <th></th>\n",
       "      <th>True Class</th>\n",
       "      <th>Predicted Class</th>\n",
       "      <th>Correct Prediction</th>\n",
       "    </tr>\n",
       "  </thead>\n",
       "  <tbody>\n",
       "    <tr>\n",
       "      <th>0</th>\n",
       "      <td>0</td>\n",
       "      <td>0</td>\n",
       "      <td>True</td>\n",
       "    </tr>\n",
       "    <tr>\n",
       "      <th>1</th>\n",
       "      <td>2</td>\n",
       "      <td>2</td>\n",
       "      <td>True</td>\n",
       "    </tr>\n",
       "    <tr>\n",
       "      <th>2</th>\n",
       "      <td>1</td>\n",
       "      <td>1</td>\n",
       "      <td>True</td>\n",
       "    </tr>\n",
       "    <tr>\n",
       "      <th>3</th>\n",
       "      <td>2</td>\n",
       "      <td>2</td>\n",
       "      <td>True</td>\n",
       "    </tr>\n",
       "    <tr>\n",
       "      <th>4</th>\n",
       "      <td>0</td>\n",
       "      <td>0</td>\n",
       "      <td>True</td>\n",
       "    </tr>\n",
       "  </tbody>\n",
       "</table>\n",
       "</div>"
      ],
      "text/plain": [
       "   True Class  Predicted Class  Correct Prediction\n",
       "0           0                0                True\n",
       "1           2                2                True\n",
       "2           1                1                True\n",
       "3           2                2                True\n",
       "4           0                0                True"
      ]
     },
     "execution_count": 21,
     "metadata": {},
     "output_type": "execute_result"
    }
   ],
   "source": [
    "import pandas as pd\n",
    "\n",
    "# Compute class probabilities using softmax\n",
    "logits = clf(emb_val.to(torch.device(\"cpu\")))  # Get raw outputs (logits)\n",
    "probs = F.softmax(logits, dim=1).detach().numpy()  # Convert logits to probabilities\n",
    "\n",
    "# Get the predicted class (highest probability class index)\n",
    "predicted_classes = probs.argmax(axis=1)\n",
    "\n",
    "# Get the actual class (ground truth labels)\n",
    "true_classes = label_val.numpy().argmax(axis=1)  # Assuming one-hot encoded labels\n",
    "\n",
    "# Create a DataFrame for side-by-side comparison\n",
    "df_results = pd.DataFrame({\n",
    "    \"True Class\": true_classes,\n",
    "    \"Predicted Class\": predicted_classes,\n",
    "    \"Correct Prediction\": (true_classes == predicted_classes)  # True/False if correct\n",
    "})\n",
    "\n",
    "# Display results\n",
    "df_results.head()"
   ]
  },
  {
   "cell_type": "code",
   "execution_count": 22,
   "metadata": {},
   "outputs": [],
   "source": [
    "# STUFF BELOW IS RANDOM STUFF"
   ]
  },
  {
   "cell_type": "code",
   "execution_count": 23,
   "metadata": {},
   "outputs": [],
   "source": [
    "# !pip install iterative-stratification\n",
    "# from iterstrat.ml_stratifiers import MultilabelStratifiedKFold \n",
    "# For multiple labels\n",
    "\n",
    "\n",
    "# Pre-processing: \n",
    "# https://github.com/kitzeslab/opensoundscape/blob/master/docs/tutorials/preprocess_audio_dataset.ipynb\n",
    "# Preprocessor classes are used to load, transform, and augment audio samples for use in a machine learing model\n",
    "# from opensoundscape.preprocess.preprocessors import SpectrogramPreprocessor\n",
    "# from opensoundscape.ml.datasets import AudioFileDataset, AudioSplittingDataset\n",
    "# from opensoundscape import preprocess"
   ]
  },
  {
   "attachments": {
    "image.png": {
     "image/png": "[encoded data removed]"
    }
   },
   "cell_type": "markdown",
   "metadata": {},
   "source": [
    "DF of https://opensoundscape.org/en/latest/tutorials/transfer_learning.html#Train-shallow-classifiers-on-embedding-model-outputs\n",
    "\n",
    "![image.png](attachment:image.png)"
   ]
  }
 ],
 "metadata": {
  "kernelspec": {
   "display_name": "Python 3 (ipykernel)",
   "language": "python",
   "name": "python3"
  },
  "language_info": {
   "codemirror_mode": {
    "name": "ipython",
    "version": 3
   },
   "file_extension": ".py",
   "mimetype": "text/x-python",
   "name": "python",
   "nbconvert_exporter": "python",
   "pygments_lexer": "ipython3",
   "version": "3.12.9"
  }
 },
 "nbformat": 4,
 "nbformat_minor": 4
}
