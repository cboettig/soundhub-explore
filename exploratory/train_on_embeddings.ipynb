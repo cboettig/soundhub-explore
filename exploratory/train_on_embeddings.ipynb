{
 "cells": [
  {
   "cell_type": "markdown",
   "metadata": {},
   "source": [
    "This is an example of a jupyter notebook, running using the `pixi` environment we created to manage our dependencies. Note that you may need to change your python interpreter (top right corner) to:\n",
    "`.pixi/envs/default/bin/python`"
   ]
  },
  {
   "cell_type": "code",
   "execution_count": 1,
   "metadata": {},
   "outputs": [],
   "source": [
    "# disable gpu to test on CPU-only\n",
    "#import os\n",
    "#os.environ[\"CUDA_VISIBLE_DEVICES\"] = \"\""
   ]
  },
  {
   "cell_type": "code",
   "execution_count": 2,
   "metadata": {},
   "outputs": [
    {
     "name": "stderr",
     "output_type": "stream",
     "text": [
      "2025-03-28 22:24:04.596688: I tensorflow/core/platform/cpu_feature_guard.cc:210] This TensorFlow binary is optimized to use available CPU instructions in performance-critical operations.\n",
      "To enable the following instructions: SSE4.1 SSE4.2 AVX AVX2 FMA, in other operations, rebuild TensorFlow with the appropriate compiler flags.\n"
     ]
    }
   ],
   "source": [
    "import os\n",
    "import glob\n",
    "import re\n",
    "import pandas as pd\n",
    "import numpy as np\n",
    "import random\n",
    "import torch\n",
    "import sklearn\n",
    "\n",
    "#set up plotting\n",
    "from matplotlib import pyplot as plt\n",
    "plt.rcParams['figure.figsize']=[15,5] #for large visuals\n",
    "%config InlineBackend.figure_format = 'retina'\n",
    "\n",
    "from sklearn.metrics import roc_auc_score\n",
    "import bioacoustics_model_zoo as bmz\n",
    "from opensoundscape.ml.shallow_classifier import quick_fit "
   ]
  },
  {
   "cell_type": "markdown",
   "metadata": {},
   "source": [
    "Pre-processing"
   ]
  },
  {
   "cell_type": "code",
   "execution_count": 3,
   "metadata": {},
   "outputs": [],
   "source": [
    "import requests\n",
    "import zipfile\n",
    "import os\n",
    "\n",
    "url = \"https://storage.googleapis.com/dse-staff-public/data.zip\"\n",
    "dest_path = \".\"\n",
    "\n",
    "# Create destination directory if it doesn't exist\n",
    "os.makedirs(dest_path, exist_ok=True)\n",
    "\n",
    "# Download the ZIP file\n",
    "response = requests.get(url, stream=True)\n",
    "with open(os.path.join(dest_path, \"data.zip\"), 'wb') as f:\n",
    "    for chunk in response.iter_content(chunk_size=1024): \n",
    "        if chunk: \n",
    "            f.write(chunk)\n",
    "\n",
    "# Unzip the file\n",
    "with zipfile.ZipFile(os.path.join(dest_path, \"data.zip\"), 'r') as zip_ref:\n",
    "    zip_ref.extractall(dest_path)"
   ]
  },
  {
   "cell_type": "code",
   "execution_count": 4,
   "metadata": {},
   "outputs": [
    {
     "name": "stdout",
     "output_type": "stream",
     "text": [
      "                                                                present\n",
      "file                                                                   \n",
      "data/audio/bullfrog/data_5s/neg/bullfrog-neg-t-11113588_12.wav    False\n",
      "data/audio/bullfrog/data_5s/neg/bullfrog-neg-t-11113588_5.wav     False\n",
      "data/audio/bullfrog/data_5s/neg/bullfrog-neg-t-11113588_15.wav    False\n",
      "data/audio/bullfrog/data_5s/neg/bullfrog-neg-t-11113588_4.wav     False\n",
      "data/audio/bullfrog/data_5s/neg/bullfrog-neg-t-11113588_14.wav    False\n"
     ]
    }
   ],
   "source": [
    "datapath = \"data/audio\" # should use relative paths.\n",
    "species = \"bullfrog\"\n",
    "datatype = \"data\"\n",
    "\n",
    "files = glob.glob(os.path.join(datapath, species, datatype, \"**/*.wav\"), recursive=True)\n",
    "labels = pd.DataFrame({\"file\": files, \"present\": [\"pos\" in f.lower() for f in files]})\n",
    "\n",
    "# Do this step ONLY to convert to 5 second dataset to run perch!!!!\n",
    "labels['file'] = labels['file'].apply(lambda x: re.sub(r'data', 'data_5s', x, count=2).replace('data_5s', 'data', 1)) \n",
    "\n",
    "labels['file'] = labels['file'].astype(str)\n",
    "labels.set_index(\"file\", inplace=True)\n",
    "\n",
    "pd.set_option('display.max_colwidth', 100)\n",
    "print(labels.head())"
   ]
  },
  {
   "cell_type": "code",
   "execution_count": 5,
   "metadata": {},
   "outputs": [],
   "source": [
    "labels_train, labels_val = sklearn.model_selection.train_test_split(labels[['present']])"
   ]
  },
  {
   "cell_type": "markdown",
   "metadata": {},
   "source": [
    "Run Models"
   ]
  },
  {
   "cell_type": "code",
   "execution_count": 6,
   "metadata": {},
   "outputs": [],
   "source": [
    "torch.manual_seed(0)\n",
    "random.seed(0)\n",
    "np.random.seed(0)"
   ]
  },
  {
   "cell_type": "code",
   "execution_count": 7,
   "metadata": {},
   "outputs": [
    {
     "name": "stderr",
     "output_type": "stream",
     "text": [
      "Using cache found in /home/jovyan/.cache/torch/hub/kitzeslab_bioacoustics-model-zoo_main\n",
      "/opt/conda/lib/python3.12/site-packages/tensorflow_hub/__init__.py:61: DeprecationWarning: pkg_resources is deprecated as an API. See https://setuptools.pypa.io/en/latest/pkg_resources.html\n",
      "  from pkg_resources import parse_version\n",
      "/opt/conda/lib/python3.12/site-packages/opensoundscape/ml/cnn.py:599: UserWarning: \n",
      "                    This architecture is not listed in opensoundscape.ml.cnn_architectures.ARCH_DICT.\n",
      "                    It will not be available for loading after saving the model with .save() (unless using pickle=True). \n",
      "                    To make it re-loadable, define a function that generates the architecture from arguments: (n_classes, n_channels) \n",
      "                    then use opensoundscape.ml.cnn_architectures.register_architecture() to register the generating function.\n",
      "\n",
      "                    The function can also set the returned object's .constructor_name to the registered string key in ARCH_DICT\n",
      "                    to avoid this warning and ensure it is reloaded correctly by opensoundscape.ml.load_model().\n",
      "\n",
      "                    See opensoundscape.ml.cnn_architectures module for examples of constructor functions\n",
      "                    \n",
      "  warnings.warn(\n",
      "/opt/conda/lib/python3.12/site-packages/opensoundscape/ml/cnn.py:623: UserWarning: Failed to detect expected # input channels of this architecture.Make sure your architecture expects the number of channels equal to `channels` argument 1). Pytorch architectures generally expect 3 channels by default.\n",
      "  warnings.warn(\n"
     ]
    }
   ],
   "source": [
    "model = torch.hub.load('kitzeslab/bioacoustics-model-zoo', \"Perch\", trust_repo=True)"
   ]
  },
  {
   "cell_type": "code",
   "execution_count": 8,
   "metadata": {
    "scrolled": true
   },
   "outputs": [
    {
     "name": "stderr",
     "output_type": "stream",
     "text": [
      "/opt/conda/lib/python3.12/site-packages/opensoundscape/utils.py:349: FutureWarning: Series.__getitem__ treating keys as positions is deprecated. In a future version, integer keys will always be treated as labels (consistent with DataFrame behavior). To access a value by position, use `ser.iloc[pos]`\n",
      "  clips[label_df.columns] = label_df.loc[f]\n",
      "/opt/conda/lib/python3.12/site-packages/opensoundscape/utils.py:349: FutureWarning: Series.__getitem__ treating keys as positions is deprecated. In a future version, integer keys will always be treated as labels (consistent with DataFrame behavior). To access a value by position, use `ser.iloc[pos]`\n",
      "  clips[label_df.columns] = label_df.loc[f]\n",
      "/opt/conda/lib/python3.12/site-packages/opensoundscape/utils.py:349: FutureWarning: Series.__getitem__ treating keys as positions is deprecated. In a future version, integer keys will always be treated as labels (consistent with DataFrame behavior). To access a value by position, use `ser.iloc[pos]`\n",
      "  clips[label_df.columns] = label_df.loc[f]\n",
      "/opt/conda/lib/python3.12/site-packages/opensoundscape/utils.py:349: FutureWarning: Series.__getitem__ treating keys as positions is deprecated. In a future version, integer keys will always be treated as labels (consistent with DataFrame behavior). To access a value by position, use `ser.iloc[pos]`\n",
      "  clips[label_df.columns] = label_df.loc[f]\n",
      "/opt/conda/lib/python3.12/site-packages/opensoundscape/utils.py:349: FutureWarning: Series.__getitem__ treating keys as positions is deprecated. In a future version, integer keys will always be treated as labels (consistent with DataFrame behavior). To access a value by position, use `ser.iloc[pos]`\n",
      "  clips[label_df.columns] = label_df.loc[f]\n",
      "/opt/conda/lib/python3.12/site-packages/opensoundscape/utils.py:349: FutureWarning: Series.__getitem__ treating keys as positions is deprecated. In a future version, integer keys will always be treated as labels (consistent with DataFrame behavior). To access a value by position, use `ser.iloc[pos]`\n",
      "  clips[label_df.columns] = label_df.loc[f]\n",
      "/opt/conda/lib/python3.12/site-packages/opensoundscape/utils.py:349: FutureWarning: Series.__getitem__ treating keys as positions is deprecated. In a future version, integer keys will always be treated as labels (consistent with DataFrame behavior). To access a value by position, use `ser.iloc[pos]`\n",
      "  clips[label_df.columns] = label_df.loc[f]\n",
      "/opt/conda/lib/python3.12/site-packages/opensoundscape/utils.py:349: FutureWarning: Series.__getitem__ treating keys as positions is deprecated. In a future version, integer keys will always be treated as labels (consistent with DataFrame behavior). To access a value by position, use `ser.iloc[pos]`\n",
      "  clips[label_df.columns] = label_df.loc[f]\n",
      "/opt/conda/lib/python3.12/site-packages/opensoundscape/utils.py:349: FutureWarning: Series.__getitem__ treating keys as positions is deprecated. In a future version, integer keys will always be treated as labels (consistent with DataFrame behavior). To access a value by position, use `ser.iloc[pos]`\n",
      "  clips[label_df.columns] = label_df.loc[f]\n",
      "/opt/conda/lib/python3.12/site-packages/opensoundscape/utils.py:349: FutureWarning: Series.__getitem__ treating keys as positions is deprecated. In a future version, integer keys will always be treated as labels (consistent with DataFrame behavior). To access a value by position, use `ser.iloc[pos]`\n",
      "  clips[label_df.columns] = label_df.loc[f]\n",
      "/opt/conda/lib/python3.12/site-packages/opensoundscape/utils.py:349: FutureWarning: Series.__getitem__ treating keys as positions is deprecated. In a future version, integer keys will always be treated as labels (consistent with DataFrame behavior). To access a value by position, use `ser.iloc[pos]`\n",
      "  clips[label_df.columns] = label_df.loc[f]\n",
      "/opt/conda/lib/python3.12/site-packages/opensoundscape/utils.py:349: FutureWarning: Series.__getitem__ treating keys as positions is deprecated. In a future version, integer keys will always be treated as labels (consistent with DataFrame behavior). To access a value by position, use `ser.iloc[pos]`\n",
      "  clips[label_df.columns] = label_df.loc[f]\n",
      "/opt/conda/lib/python3.12/site-packages/opensoundscape/utils.py:349: FutureWarning: Series.__getitem__ treating keys as positions is deprecated. In a future version, integer keys will always be treated as labels (consistent with DataFrame behavior). To access a value by position, use `ser.iloc[pos]`\n",
      "  clips[label_df.columns] = label_df.loc[f]\n",
      "/opt/conda/lib/python3.12/site-packages/opensoundscape/utils.py:349: FutureWarning: Series.__getitem__ treating keys as positions is deprecated. In a future version, integer keys will always be treated as labels (consistent with DataFrame behavior). To access a value by position, use `ser.iloc[pos]`\n",
      "  clips[label_df.columns] = label_df.loc[f]\n",
      "/opt/conda/lib/python3.12/site-packages/opensoundscape/utils.py:349: FutureWarning: Series.__getitem__ treating keys as positions is deprecated. In a future version, integer keys will always be treated as labels (consistent with DataFrame behavior). To access a value by position, use `ser.iloc[pos]`\n",
      "  clips[label_df.columns] = label_df.loc[f]\n",
      "/opt/conda/lib/python3.12/site-packages/opensoundscape/utils.py:349: FutureWarning: Series.__getitem__ treating keys as positions is deprecated. In a future version, integer keys will always be treated as labels (consistent with DataFrame behavior). To access a value by position, use `ser.iloc[pos]`\n",
      "  clips[label_df.columns] = label_df.loc[f]\n",
      "/opt/conda/lib/python3.12/site-packages/opensoundscape/utils.py:349: FutureWarning: Series.__getitem__ treating keys as positions is deprecated. In a future version, integer keys will always be treated as labels (consistent with DataFrame behavior). To access a value by position, use `ser.iloc[pos]`\n",
      "  clips[label_df.columns] = label_df.loc[f]\n",
      "/opt/conda/lib/python3.12/site-packages/opensoundscape/utils.py:349: FutureWarning: Series.__getitem__ treating keys as positions is deprecated. In a future version, integer keys will always be treated as labels (consistent with DataFrame behavior). To access a value by position, use `ser.iloc[pos]`\n",
      "  clips[label_df.columns] = label_df.loc[f]\n",
      "/opt/conda/lib/python3.12/site-packages/opensoundscape/utils.py:349: FutureWarning: Series.__getitem__ treating keys as positions is deprecated. In a future version, integer keys will always be treated as labels (consistent with DataFrame behavior). To access a value by position, use `ser.iloc[pos]`\n",
      "  clips[label_df.columns] = label_df.loc[f]\n",
      "/opt/conda/lib/python3.12/site-packages/opensoundscape/utils.py:349: FutureWarning: Series.__getitem__ treating keys as positions is deprecated. In a future version, integer keys will always be treated as labels (consistent with DataFrame behavior). To access a value by position, use `ser.iloc[pos]`\n",
      "  clips[label_df.columns] = label_df.loc[f]\n",
      "/opt/conda/lib/python3.12/site-packages/opensoundscape/utils.py:349: FutureWarning: Series.__getitem__ treating keys as positions is deprecated. In a future version, integer keys will always be treated as labels (consistent with DataFrame behavior). To access a value by position, use `ser.iloc[pos]`\n",
      "  clips[label_df.columns] = label_df.loc[f]\n",
      "/opt/conda/lib/python3.12/site-packages/opensoundscape/utils.py:349: FutureWarning: Series.__getitem__ treating keys as positions is deprecated. In a future version, integer keys will always be treated as labels (consistent with DataFrame behavior). To access a value by position, use `ser.iloc[pos]`\n",
      "  clips[label_df.columns] = label_df.loc[f]\n"
     ]
    },
    {
     "data": {
      "application/vnd.jupyter.widget-view+json": {
       "model_id": "12d271ed41564673b0ee2df3e529b34d",
       "version_major": 2,
       "version_minor": 0
      },
      "text/plain": [
       "  0%|          | 0/1 [00:00<?, ?it/s]"
      ]
     },
     "metadata": {},
     "output_type": "display_data"
    },
    {
     "name": "stderr",
     "output_type": "stream",
     "text": [
      "WARNING: All log messages before absl::InitializeLog() is called are written to STDERR\n",
      "I0000 00:00:1743200652.274237     192 service.cc:148] XLA service 0x64a3d66aa3a0 initialized for platform Host (this does not guarantee that XLA will be used). Devices:\n",
      "I0000 00:00:1743200652.274269     192 service.cc:156]   StreamExecutor device (0): Host, Default Version\n",
      "2025-03-28 22:24:12.478555: I tensorflow/compiler/mlir/tensorflow/utils/dump_mlir_util.cc:268] disabling MLIR crash reproducer, set env var `MLIR_CRASH_REPRODUCER_DIRECTORY` to enable.\n",
      "W0000 00:00:1743200652.485518     192 assert_op.cc:38] Ignoring Assert operator jax2tf_infer_fn_/assert_equal_1/Assert/AssertGuard/Assert\n",
      "I0000 00:00:1743200654.321824     192 device_compiler.h:188] Compiled cluster using XLA!  This line is logged at most once for the lifetime of the process.\n",
      "2025-03-28 22:24:14.327891: W external/local_xla/xla/tsl/framework/cpu_allocator_impl.cc:83] Allocation of 339401216 exceeds 10% of free system memory.\n",
      "/opt/conda/lib/python3.12/site-packages/opensoundscape/utils.py:349: FutureWarning: Series.__getitem__ treating keys as positions is deprecated. In a future version, integer keys will always be treated as labels (consistent with DataFrame behavior). To access a value by position, use `ser.iloc[pos]`\n",
      "  clips[label_df.columns] = label_df.loc[f]\n",
      "/opt/conda/lib/python3.12/site-packages/opensoundscape/utils.py:349: FutureWarning: Series.__getitem__ treating keys as positions is deprecated. In a future version, integer keys will always be treated as labels (consistent with DataFrame behavior). To access a value by position, use `ser.iloc[pos]`\n",
      "  clips[label_df.columns] = label_df.loc[f]\n",
      "/opt/conda/lib/python3.12/site-packages/opensoundscape/utils.py:349: FutureWarning: Series.__getitem__ treating keys as positions is deprecated. In a future version, integer keys will always be treated as labels (consistent with DataFrame behavior). To access a value by position, use `ser.iloc[pos]`\n",
      "  clips[label_df.columns] = label_df.loc[f]\n",
      "/opt/conda/lib/python3.12/site-packages/opensoundscape/utils.py:349: FutureWarning: Series.__getitem__ treating keys as positions is deprecated. In a future version, integer keys will always be treated as labels (consistent with DataFrame behavior). To access a value by position, use `ser.iloc[pos]`\n",
      "  clips[label_df.columns] = label_df.loc[f]\n",
      "/opt/conda/lib/python3.12/site-packages/opensoundscape/utils.py:349: FutureWarning: Series.__getitem__ treating keys as positions is deprecated. In a future version, integer keys will always be treated as labels (consistent with DataFrame behavior). To access a value by position, use `ser.iloc[pos]`\n",
      "  clips[label_df.columns] = label_df.loc[f]\n",
      "/opt/conda/lib/python3.12/site-packages/opensoundscape/utils.py:349: FutureWarning: Series.__getitem__ treating keys as positions is deprecated. In a future version, integer keys will always be treated as labels (consistent with DataFrame behavior). To access a value by position, use `ser.iloc[pos]`\n",
      "  clips[label_df.columns] = label_df.loc[f]\n",
      "/opt/conda/lib/python3.12/site-packages/opensoundscape/utils.py:349: FutureWarning: Series.__getitem__ treating keys as positions is deprecated. In a future version, integer keys will always be treated as labels (consistent with DataFrame behavior). To access a value by position, use `ser.iloc[pos]`\n",
      "  clips[label_df.columns] = label_df.loc[f]\n",
      "/opt/conda/lib/python3.12/site-packages/opensoundscape/utils.py:349: FutureWarning: Series.__getitem__ treating keys as positions is deprecated. In a future version, integer keys will always be treated as labels (consistent with DataFrame behavior). To access a value by position, use `ser.iloc[pos]`\n",
      "  clips[label_df.columns] = label_df.loc[f]\n"
     ]
    },
    {
     "data": {
      "application/vnd.jupyter.widget-view+json": {
       "model_id": "43895e2a2dc8440bbc57bb6a6da99791",
       "version_major": 2,
       "version_minor": 0
      },
      "text/plain": [
       "  0%|          | 0/1 [00:00<?, ?it/s]"
      ]
     },
     "metadata": {},
     "output_type": "display_data"
    },
    {
     "name": "stderr",
     "output_type": "stream",
     "text": [
      "W0000 00:00:1743200656.733690     192 assert_op.cc:38] Ignoring Assert operator jax2tf_infer_fn_/assert_equal_1/Assert/AssertGuard/Assert\n"
     ]
    }
   ],
   "source": [
    "emb_train = model.embed(labels_train, return_dfs=False, batch_size=128, num_workers=0)\n",
    "emb_val = model.embed(labels_val, return_dfs=False, batch_size=128, num_workers=0)\n",
    "\n",
    "model.change_classes(['present'])"
   ]
  },
  {
   "cell_type": "markdown",
   "metadata": {},
   "source": [
    "In the prior step is where the kernel crashes while embedding, apparently could be caused by a package installation issue with tensorflow or numpy (https://github.com/microsoft/vscode-jupyter/wiki/Kernel-crashes) \n",
    "\n",
    "Error: \"The Kernel crashed while executing code in the current cell or a previous cell. Please review the code in the cell(s) to identify a possible cause of the failure.\""
   ]
  },
  {
   "cell_type": "code",
   "execution_count": 9,
   "metadata": {},
   "outputs": [
    {
     "name": "stdout",
     "output_type": "stream",
     "text": [
      "Epoch 100/1000, Loss: 0.20836235582828522, Val Loss: 0.24200448393821716\n",
      "val AU ROC: 1.000\n",
      "val MAP: 1.000\n",
      "Epoch 200/1000, Loss: 0.09886069595813751, Val Loss: 0.12468123435974121\n",
      "val AU ROC: 1.000\n",
      "val MAP: 1.000\n",
      "Epoch 300/1000, Loss: 0.05829340219497681, Val Loss: 0.07854687422513962\n",
      "val AU ROC: 1.000\n",
      "val MAP: 1.000\n",
      "Epoch 400/1000, Loss: 0.03886823356151581, Val Loss: 0.055060021579265594\n",
      "val AU ROC: 1.000\n",
      "val MAP: 1.000\n",
      "Epoch 500/1000, Loss: 0.02799311839044094, Val Loss: 0.041265591979026794\n",
      "val AU ROC: 1.000\n",
      "val MAP: 1.000\n",
      "Epoch 600/1000, Loss: 0.02124089188873768, Val Loss: 0.03236822783946991\n",
      "val AU ROC: 1.000\n",
      "val MAP: 1.000\n",
      "Epoch 700/1000, Loss: 0.016731975600123405, Val Loss: 0.026236359030008316\n",
      "val AU ROC: 1.000\n",
      "val MAP: 1.000\n",
      "Epoch 800/1000, Loss: 0.013554942794144154, Val Loss: 0.021797506138682365\n",
      "val AU ROC: 1.000\n",
      "val MAP: 1.000\n",
      "Epoch 900/1000, Loss: 0.011222404427826405, Val Loss: 0.018460331484675407\n",
      "val AU ROC: 1.000\n",
      "val MAP: 1.000\n",
      "Epoch 1000/1000, Loss: 0.009453468956053257, Val Loss: 0.015875037759542465\n",
      "val AU ROC: 1.000\n",
      "val MAP: 1.000\n",
      "Training complete\n"
     ]
    }
   ],
   "source": [
    "quick_fit(model.network, emb_train, labels_train.values, emb_val, labels_val.values, steps=1000)"
   ]
  },
  {
   "cell_type": "code",
   "execution_count": 10,
   "metadata": {},
   "outputs": [
    {
     "name": "stdout",
     "output_type": "stream",
     "text": [
      "1.0\n"
     ]
    }
   ],
   "source": [
    "predictions = model.network(torch.tensor(emb_val).float()).detach().numpy()\n",
    "score = roc_auc_score(labels_val.values, predictions, average=None)\n",
    "\n",
    "print(score)"
   ]
  },
  {
   "cell_type": "code",
   "execution_count": 11,
   "metadata": {},
   "outputs": [
    {
     "name": "stderr",
     "output_type": "stream",
     "text": [
      "/opt/conda/lib/python3.12/site-packages/matplotlib_inline/config.py:68: DeprecationWarning: InlineBackend._figure_format_changed is deprecated in traitlets 4.1: use @observe and @unobserve instead.\n",
      "  def _figure_format_changed(self, name, old, new):\n"
     ]
    },
    {
     "data": {
      "text/plain": [
       "<matplotlib.legend.Legend at 0x7780c83ea4b0>"
      ]
     },
     "execution_count": 11,
     "metadata": {},
     "output_type": "execute_result"
    },
    {
     "data": {
      "image/png": "[encoded data removed]",
      "text/plain": [
       "<Figure size 1500x500 with 1 Axes>"
      ]
     },
     "metadata": {
      "image/png": {
       "height": 428,
       "width": 1223
      }
     },
     "output_type": "display_data"
    }
   ],
   "source": [
    "plt.hist(predictions[labels_val==True],bins=20,alpha=0.5,label='positives')\n",
    "plt.hist(predictions[labels_val==False],bins=20,alpha=0.5,label='negatives')\n",
    "plt.legend()"
   ]
  }
 ],
 "metadata": {
  "kernelspec": {
   "display_name": "Python 3 (ipykernel)",
   "language": "python",
   "name": "python3"
  },
  "language_info": {
   "codemirror_mode": {
    "name": "ipython",
    "version": 3
   },
   "file_extension": ".py",
   "mimetype": "text/x-python",
   "name": "python",
   "nbconvert_exporter": "python",
   "pygments_lexer": "ipython3",
   "version": "3.12.9"
  }
 },
 "nbformat": 4,
 "nbformat_minor": 4
}
